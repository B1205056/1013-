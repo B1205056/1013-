{
  "nbformat": 4,
  "nbformat_minor": 0,
  "metadata": {
    "colab": {
      "provenance": []
    },
    "kernelspec": {
      "name": "python3",
      "display_name": "Python 3"
    },
    "language_info": {
      "name": "python"
    }
  },
  "cells": [
    {
      "cell_type": "code",
      "execution_count": 22,
      "metadata": {
        "colab": {
          "base_uri": "https://localhost:8080/"
        },
        "id": "LxaoETZq9EzQ",
        "outputId": "ad003d75-9687-4049-86f1-2e4eabc7a0e7"
      },
      "outputs": [
        {
          "output_type": "stream",
          "name": "stdout",
          "text": [
            "姓名資料型別: <class 'str'> 學號資料型別: <class 'str'>\n",
            "{'name': '楊子恩', 'number': 'B1205056'}\n"
          ]
        }
      ],
      "source": [
        "a = '楊子恩'\n",
        "b = 'B1205056'\n",
        "print('姓名資料型別:',type(a),'學號資料型別:', type(b))\n",
        "my_dict = {'name':\"楊子恩\", 'number':\"B1205056\"}\n",
        "print(my_dict)"
      ]
    }
  ]
}